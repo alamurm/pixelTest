{
  "cells": [
    {
      "cell_type": "markdown",
      "metadata": {
        "id": "KdNhdt21g0jD"
      },
      "source": [
        "#Mental Health Exploring\n",
        "https://www.kaggle.com/competitions/playground-series-s4e11/overview"
      ]
    },
    {
      "cell_type": "code",
      "execution_count": 86,
      "metadata": {
        "id": "sjbOipyO6vCG",
        "colab": {
          "base_uri": "https://localhost:8080/"
        },
        "outputId": "40c72a95-36d0-4a35-90b1-a8abaf0f723b"
      },
      "outputs": [
        {
          "output_type": "stream",
          "name": "stdout",
          "text": [
            "Requirement already satisfied: CATBoost in /usr/local/lib/python3.10/dist-packages (1.2.7)\n",
            "Requirement already satisfied: graphviz in /usr/local/lib/python3.10/dist-packages (from CATBoost) (0.20.3)\n",
            "Requirement already satisfied: matplotlib in /usr/local/lib/python3.10/dist-packages (from CATBoost) (3.8.0)\n",
            "Requirement already satisfied: numpy<2.0,>=1.16.0 in /usr/local/lib/python3.10/dist-packages (from CATBoost) (1.26.4)\n",
            "Requirement already satisfied: pandas>=0.24 in /usr/local/lib/python3.10/dist-packages (from CATBoost) (2.2.2)\n",
            "Requirement already satisfied: scipy in /usr/local/lib/python3.10/dist-packages (from CATBoost) (1.13.1)\n",
            "Requirement already satisfied: plotly in /usr/local/lib/python3.10/dist-packages (from CATBoost) (5.24.1)\n",
            "Requirement already satisfied: six in /usr/local/lib/python3.10/dist-packages (from CATBoost) (1.16.0)\n",
            "Requirement already satisfied: python-dateutil>=2.8.2 in /usr/local/lib/python3.10/dist-packages (from pandas>=0.24->CATBoost) (2.8.2)\n",
            "Requirement already satisfied: pytz>=2020.1 in /usr/local/lib/python3.10/dist-packages (from pandas>=0.24->CATBoost) (2024.2)\n",
            "Requirement already satisfied: tzdata>=2022.7 in /usr/local/lib/python3.10/dist-packages (from pandas>=0.24->CATBoost) (2024.2)\n",
            "Requirement already satisfied: contourpy>=1.0.1 in /usr/local/lib/python3.10/dist-packages (from matplotlib->CATBoost) (1.3.0)\n",
            "Requirement already satisfied: cycler>=0.10 in /usr/local/lib/python3.10/dist-packages (from matplotlib->CATBoost) (0.12.1)\n",
            "Requirement already satisfied: fonttools>=4.22.0 in /usr/local/lib/python3.10/dist-packages (from matplotlib->CATBoost) (4.54.1)\n",
            "Requirement already satisfied: kiwisolver>=1.0.1 in /usr/local/lib/python3.10/dist-packages (from matplotlib->CATBoost) (1.4.7)\n",
            "Requirement already satisfied: packaging>=20.0 in /usr/local/lib/python3.10/dist-packages (from matplotlib->CATBoost) (24.2)\n",
            "Requirement already satisfied: pillow>=6.2.0 in /usr/local/lib/python3.10/dist-packages (from matplotlib->CATBoost) (11.0.0)\n",
            "Requirement already satisfied: pyparsing>=2.3.1 in /usr/local/lib/python3.10/dist-packages (from matplotlib->CATBoost) (3.2.0)\n",
            "Requirement already satisfied: tenacity>=6.2.0 in /usr/local/lib/python3.10/dist-packages (from plotly->CATBoost) (9.0.0)\n",
            "Requirement already satisfied: optuna in /usr/local/lib/python3.10/dist-packages (4.1.0)\n",
            "Requirement already satisfied: alembic>=1.5.0 in /usr/local/lib/python3.10/dist-packages (from optuna) (1.14.0)\n",
            "Requirement already satisfied: colorlog in /usr/local/lib/python3.10/dist-packages (from optuna) (6.9.0)\n",
            "Requirement already satisfied: numpy in /usr/local/lib/python3.10/dist-packages (from optuna) (1.26.4)\n",
            "Requirement already satisfied: packaging>=20.0 in /usr/local/lib/python3.10/dist-packages (from optuna) (24.2)\n",
            "Requirement already satisfied: sqlalchemy>=1.4.2 in /usr/local/lib/python3.10/dist-packages (from optuna) (2.0.36)\n",
            "Requirement already satisfied: tqdm in /usr/local/lib/python3.10/dist-packages (from optuna) (4.66.6)\n",
            "Requirement already satisfied: PyYAML in /usr/local/lib/python3.10/dist-packages (from optuna) (6.0.2)\n",
            "Requirement already satisfied: Mako in /usr/local/lib/python3.10/dist-packages (from alembic>=1.5.0->optuna) (1.3.6)\n",
            "Requirement already satisfied: typing-extensions>=4 in /usr/local/lib/python3.10/dist-packages (from alembic>=1.5.0->optuna) (4.12.2)\n",
            "Requirement already satisfied: greenlet!=0.4.17 in /usr/local/lib/python3.10/dist-packages (from sqlalchemy>=1.4.2->optuna) (3.1.1)\n",
            "Requirement already satisfied: MarkupSafe>=0.9.2 in /usr/local/lib/python3.10/dist-packages (from Mako->alembic>=1.5.0->optuna) (3.0.2)\n"
          ]
        }
      ],
      "source": [
        "!pip install CATBoost\n",
        "!pip install optuna"
      ]
    },
    {
      "cell_type": "markdown",
      "metadata": {
        "id": "BXIE-7E7g7rC"
      },
      "source": [
        "#Create the training and test dataset\n",
        "\n",
        "---\n",
        "\n"
      ]
    },
    {
      "cell_type": "code",
      "execution_count": 87,
      "metadata": {
        "id": "DLQNZfj8g7BY"
      },
      "outputs": [],
      "source": [
        "#1. Download the data from kaggle\n",
        "import pandas as pd\n",
        "url =\"https://github.com/alamurm/pixelTest/blob/main/case_study/MentalHealthExploring/Dataset\"\n",
        "dsTrain = pd.read_csv( url + \"/train.csv?raw=True\")\n",
        "dsTest=pd.read_csv(url+\"/test.csv?raw=True\")"
      ]
    },
    {
      "cell_type": "markdown",
      "metadata": {
        "id": "5CpY9Utoyca0"
      },
      "source": [
        "#EDA - Exploratory Data Analysis\n",
        "\n",
        "---\n",
        "\n"
      ]
    },
    {
      "cell_type": "code",
      "execution_count": null,
      "metadata": {
        "id": "hORVH0ICglwE"
      },
      "outputs": [],
      "source": [
        "#2. Exploratory data analysis\n",
        "dsTrain.info()\n",
        "TARGET = 'Depression'\n",
        "\n",
        "#Find the features with missing values\n",
        "print(dsTrain.isnull().sum())\n",
        "\n",
        "#Analyse the values in the demographics features\n",
        "print (dsTrain['Age'].value_counts())\n",
        "print(dsTrain['City'].value_counts())\n",
        "print(dsTrain['Gender'].value_counts())\n",
        "print(dsTrain['Profession'].value_counts())\n",
        "print(dsTrain['Working Professional or Student'].value_counts())\n",
        "\n",
        "#Aanlayse the values in psychosocial features\n",
        "print(dsTrain['Financial Stress'].value_counts())\n",
        "print(dsTrain['Job Satisfaction'].value_counts())\n",
        "print(dsTrain['Study Satisfaction'].value_counts())\n",
        "print(dsTrain['Academic Pressure'].value_counts())\n",
        "print(dsTrain['Work Pressure'].value_counts())\n",
        "print(dsTrain['Family History of Mental Illness'].value_counts())\n",
        "print(dsTrain['Have you ever had suicidal thoughts ?'].value_counts())\n",
        "#Analyse the lifestyle features\n",
        "print(dsTrain['Sleep Duration'].value_counts())\n",
        "print(dsTrain['Dietary Habits'].value_counts())\n",
        "print(dsTrain['Degree'].value_counts())\n",
        "print(dsTrain['CGPA'].value_counts())\n",
        "print(dsTrain['Work/Study Hours'].value_counts())\n",
        "\n",
        "#Analyse age group in order with suicidal thoughts and depression\n",
        "res = dsTrain[dsTrain['Have you ever had suicidal thoughts ?']=='Yes'].groupby(by = ['Age'])\n",
        "print(res['Age'].value_counts().sort_values(ascending=False))\n",
        "\n",
        "#Analyse the class imbalance\n",
        "classCount= dsTrain['Depression'].value_counts()\n",
        "print(f'class imbalance ratio , majority over minority class : {round(classCount[0]/classCount[1],2)} : 1')\n",
        "classCount.to_frame().T\n",
        "\n",
        "print(dsTrain[dsTrain['Job Satisfaction'].notnull() &\n",
        "        dsTrain['Study Satisfaction'].notnull()])\n",
        "\n",
        "# F14 No merging conflicts with the pressure columns\n",
        "dsTrain[dsTrain['Academic Pressure'].notnull() &\n",
        "        dsTrain['Work Pressure'].notnull()]\n",
        "\n",
        "#F15 21 records have both values null for Work Pressure and Academic Pressure\n",
        "filtered = dsTrain[(dsTrain['Work Pressure'].isnull()) & (dsTrain['Academic Pressure'].isnull())]\n",
        "print (filtered)\n",
        "\n",
        "#F16 15 records have both values null for Job Satisfaction and Study Satisfaction\n",
        "filtered = dsTrain[(dsTrain['Job Satisfaction'].isnull()) & (dsTrain['Study Satisfaction'].isnull())]\n",
        "print (len(filtered))\n"
      ]
    },
    {
      "cell_type": "markdown",
      "source": [
        "Findings from EDA\n",
        "1. Id , name column seems irrelevant for our analysis\n",
        "2. There are around 98 cities 64 professions with high cardinality  features\n",
        "3. pressure & satisfaction cols has scale from 1 to 5\n",
        "4. Sleep duration, Dietary habits, Degree has noise\n",
        "5. Age group with higher risk , 18 - 32!!!\n",
        "6. job satisfaction and work satisfaction  could be merged\n",
        "7. Academic pressure and work pressure could be merged\n",
        "8. There is no class imbalance as the the ratio is 1:4.5 for the target feature , Depression\n"
      ],
      "metadata": {
        "id": "6Fkwg4rh2ECw"
      }
    },
    {
      "cell_type": "code",
      "execution_count": null,
      "metadata": {
        "id": "6GeXudGjEjs5"
      },
      "outputs": [],
      "source": [
        "#Intialize Variables\n",
        "CAT_FEATURES=['Gender', 'City', 'Working Professional or Student', 'Profession',\n",
        "            'Sleep Duration', 'Dietary Habits', 'Degree', 'Have you ever had suicidal thoughts ?',\n",
        "              'Family History of Mental Illness', 'Academic Pressure', 'Work Pressure',\n",
        "              'Study Satisfaction','Job Satisfaction', 'Financial Stress']\n",
        "NUM_FEATURES=['Age', 'CGPA','Work/Study Hours']\n",
        "\n",
        "FEATURES_WITH_MORE_UNIQUE_VALUES =[]\n",
        "FEATURES_WITH_LESS_UNIQUE_VALUES =[]\n",
        "for col in CAT_FEATURES:\n",
        "    if (len(dsTrain[col].unique()) > 6 ):\n",
        "      FEATURES_WITH_MORE_UNIQUE_VALUES.append(col)\n",
        "    else :\n",
        "      FEATURES_WITH_LESS_UNIQUE_VALUES.append(col)\n",
        "print(FEATURES_WITH_MORE_UNIQUE_VALUES)\n",
        "print(FEATURES_WITH_LESS_UNIQUE_VALUES)\n",
        "\n",
        "#Hanlde noises in the data\n",
        "DIETARY_HABITS=['Healthy','Moderate','Unhealthy']\n"
      ]
    },
    {
      "cell_type": "markdown",
      "source": [
        "#Visual Insights"
      ],
      "metadata": {
        "id": "7HgLtXpjIdnN"
      }
    },
    {
      "cell_type": "code",
      "execution_count": null,
      "metadata": {
        "id": "FfgCPN1aOLbi"
      },
      "outputs": [],
      "source": [
        "#2 Visual insights\n",
        "import seaborn as sns\n",
        "from matplotlib import pyplot as plt\n",
        "sns.set()\n",
        "fig, ax =plt.subplots(3,3, figsize=(12,10))\n",
        "fig.subplots_adjust(wspace=0.3, hspace=0.7)\n",
        "#Columns to analyse for visual insights\n",
        "\n",
        "for col, subplot in zip(FEATURES_WITH_LESS_UNIQUE_VALUES, ax.flatten()):\n",
        "\n",
        "  sns.countplot(ax=subplot, data =dsTrain, x=col, hue='Depression')\n",
        "  subplot.legend(loc=1, prop={'size': 8})\n",
        "  subplot.title.set_text(col )\n",
        "  subplot.set_ylabel(TARGET)\n",
        "  subplot.set_xlabel('')\n",
        "  plt.xticks(fontsize=7)\n",
        "\n",
        "plt.tight_layout()\n",
        "plt.show()\n"
      ]
    },
    {
      "cell_type": "markdown",
      "metadata": {
        "id": "51tNqIbEmKlA"
      },
      "source": [
        "Visual insights contd...\n"
      ]
    },
    {
      "cell_type": "code",
      "execution_count": null,
      "metadata": {
        "id": "ZmEpDMSySqJr"
      },
      "outputs": [],
      "source": [
        "filteredData = dsTrain.loc[dsTrain['Dietary Habits'].isin(DIETARY_HABITS)]\n",
        "fig, ax =plt.subplots(1,2, figsize=(10,4))\n",
        "#ig.subplots_adjust(wspace=0.3, hspace=0.7)\n",
        "#Columns to analyse for visual insights\n",
        "#for col, subplot in zip(FEATURES_WITH_MORE_UNIQUE_VALUES, ax.flatten()):\n",
        "fig.subplots_adjust(wspace=2.0)\n",
        "subplot = sns.countplot( ax= ax[0],data=filteredData, x='Dietary Habits', hue='Depression')\n",
        "subplot.legend(loc=1, prop={'size': 8})\n",
        "subplot.title.set_text('Dietary Habits' + ' vs ' + TARGET)\n",
        "subplot.set_ylabel(TARGET)\n",
        "\n",
        "subplot = sns.countplot( ax= ax[1],data=filteredData, x=TARGET, hue='Depression')\n",
        "subplot.legend(loc=1, prop={'size': 8})\n",
        "subplot.title.set_text('Dietary Habits' + ' vs ' + TARGET)\n",
        "subplot.set_ylabel(TARGET)\n",
        "\n",
        "plt.tight_layout()\n",
        "plt.show()\n",
        "\n",
        "print(subplot.get_xticklabels())\n",
        "print(filteredData[filteredData['Dietary Habits']=='Yes'])"
      ]
    },
    {
      "cell_type": "code",
      "execution_count": null,
      "metadata": {
        "id": "uRPLd6zlZI0Q"
      },
      "outputs": [],
      "source": [
        "#Box plots for numerical features in realtion to the target\n",
        "fig, ax =plt.subplots(1,3, figsize=(16,5))\n",
        "\n",
        "for col, subplot in zip(NUM_FEATURES, ax.flatten()):\n",
        "  sns.boxplot(data=dsTrain,y= col , hue = TARGET, ax=subplot, width=0.5, gap=0.2)\n",
        "  subplot.set_title(f'{col} min:{dsTrain[col].min()}, max:{dsTrain[col].max()}, median:{dsTrain[col].median()}')\n",
        "\n",
        "plt.show()"
      ]
    },
    {
      "cell_type": "code",
      "source": [
        "#Bar plots representing the high cardinality categorical features\n",
        "grps =dsTrain.groupby(\"Degree\").filter(lambda x: len(x) > 5)\n",
        "heading = f'{len(grps)}  out of  {len(dsTrain)} has valid data for Degree'\n",
        "fig , ax = plt.subplots(figsize=(20, 5))\n",
        "dsTrain['Degree'].value_counts().plot(kind='bar', y='Degree', x='count')\n",
        "plt.title(heading)\n",
        "plt.show()\n",
        "\n",
        "\n",
        "grps =dsTrain.groupby(\"City\").filter(lambda x: len(x) > 5)\n",
        "heading = f'{len(grps)}  out of  {len(dsTrain)} has valid data for City'\n",
        "fig , ax = plt.subplots(figsize=(20, 5))\n",
        "dsTrain['City'].value_counts().plot(kind='bar', y='City', x='count')\n",
        "plt.title(heading)\n",
        "plt.show()\n"
      ],
      "metadata": {
        "id": "9Y8CCMch9P8m"
      },
      "execution_count": null,
      "outputs": []
    },
    {
      "cell_type": "markdown",
      "metadata": {
        "id": "bIr2aVcmz0Cc"
      },
      "source": [
        "#Data Preprocessing\n",
        "\n",
        "---\n",
        "\n"
      ]
    },
    {
      "cell_type": "code",
      "execution_count": 90,
      "metadata": {
        "id": "LhyWpIURgzAi"
      },
      "outputs": [],
      "source": [
        "import numpy as np\n",
        "#3. This function processes and prepares the data ready for ML algorithm\n",
        "def wrangle(ds):\n",
        "\n",
        "  ds['Pressure'] = np.where(ds['Working Professional or Student']=='Student',\n",
        "                    np.where(ds['Academic Pressure'].notnull(), ds['Academic Pressure'],ds['Work Pressure']),\n",
        "                    ds['Work Pressure'])\n",
        "  ds['Pressure'] = np.where(ds['Working Professional or Student']!='Student',\n",
        "                    np.where(ds['Work Pressure'].notnull(), ds['Work Pressure'],ds['Academic Pressure']),\n",
        "                    ds['Academic Pressure'])\n",
        "  ds['Satisfaction'] = np.where(ds['Working Professional or Student']=='Student',\n",
        "                    np.where(ds['Study Satisfaction'].notnull(), ds['Study Satisfaction'],ds['Job Satisfaction']),\n",
        "                    ds['Job Satisfaction'])\n",
        "  ds['Satisfaction'] = np.where(ds['Working Professional or Student']!='Student',\n",
        "                    np.where(ds['Job Satisfaction'].notnull(), ds['Job Satisfaction'],ds['Study Satisfaction']),\n",
        "                    ds['Study Satisfaction'])\n",
        "  dsRet= ds.drop([\"id\", \"Name\", \"Work Pressure\", \"Academic Pressure\", \"Job Satisfaction\",\"Study Satisfaction\" ], axis= 1)\n",
        "\n",
        "  for col in CAT_FEATURES:\n",
        "    dsRet[col]=dsRet[col].astype(str)\n",
        "\n",
        "\n",
        "  return dsRet\n",
        "\n",
        "CAT_FEATURES.append('Pressure')\n",
        "CAT_FEATURES.append('Satisfaction')\n",
        "CAT_FEATURES.remove('Work Pressure')\n",
        "CAT_FEATURES.remove('Academic Pressure')\n",
        "CAT_FEATURES.remove('Job Satisfaction')\n",
        "CAT_FEATURES.remove('Study Satisfaction')\n",
        "\n",
        "processed_Train=wrangle(dsTrain)\n"
      ]
    },
    {
      "cell_type": "markdown",
      "metadata": {
        "id": "DpwZtF7rdvkf"
      },
      "source": [
        "#Split the data to train and validation"
      ]
    },
    {
      "cell_type": "code",
      "execution_count": 91,
      "metadata": {
        "id": "wiNTSw1vzgmW"
      },
      "outputs": [],
      "source": [
        "#Split train and val data\n",
        "from sklearn.model_selection import train_test_split\n",
        "from imblearn.over_sampling import SMOTE\n",
        "\n",
        "y=processed_Train[TARGET]\n",
        "X=processed_Train.drop(TARGET, axis = 1)\n",
        "X_train, X_val, y_train, y_val = train_test_split(X, y, test_size=0.3, random_state=40)\n"
      ]
    },
    {
      "cell_type": "markdown",
      "metadata": {
        "id": "ZmKcslzSdlGa"
      },
      "source": [
        "#Train the model with CATBoost"
      ]
    },
    {
      "cell_type": "code",
      "execution_count": 92,
      "metadata": {
        "id": "Iw-JnbQQ2sOy"
      },
      "outputs": [],
      "source": [
        "catFeatureIndices = [X_train.columns.get_loc(col) for col in CAT_FEATURES]"
      ]
    },
    {
      "cell_type": "code",
      "execution_count": null,
      "metadata": {
        "id": "VKkkwHShdJ1D"
      },
      "outputs": [],
      "source": [
        "from sklearn.metrics import roc_curve\n",
        "from sklearn.metrics import auc\n",
        "from matplotlib import pyplot as plt\n",
        "from catboost import CatBoostClassifier, Pool\n",
        "from sklearn.metrics import accuracy_score, confusion_matrix, classification_report\n",
        "\n",
        "trainingPool = Pool(X_train, label=y_train, cat_features=catFeatureIndices)\n",
        "valPool = Pool(X_val, label=y_val,cat_features=catFeatureIndices)\n",
        "\n",
        "model = CatBoostClassifier()\n",
        "\n",
        "model.fit(trainingPool)\n",
        "\n"
      ]
    },
    {
      "cell_type": "code",
      "source": [
        "# predicting for validation data\n",
        "print ('Report for training data')\n",
        "pred=model.predict(trainingPool)\n",
        "report= classification_report(y_train, pred)\n",
        "print(report)\n",
        "\n",
        "print ('Report for testing data')\n",
        "pred=model.predict(valPool)\n",
        "report= classification_report(y_val, pred)\n",
        "print(report)\n",
        "\n"
      ],
      "metadata": {
        "id": "dR0dlSw0Wa_f"
      },
      "execution_count": null,
      "outputs": []
    },
    {
      "cell_type": "code",
      "source": [
        "#Confusion matrix diaplay\n",
        "from sklearn.metrics import confusion_matrix, ConfusionMatrixDisplay\n",
        "cmatrix =confusion_matrix(y_val, pred)\n",
        "cm_display = ConfusionMatrixDisplay(confusion_matrix = cmatrix, display_labels = ['No', 'Yes'])\n",
        "subplot = cm_display.plot( colorbar=False)\n",
        "print(type(model).__name__)\n",
        "plt.show()"
      ],
      "metadata": {
        "id": "P9hN9qEePujm"
      },
      "execution_count": null,
      "outputs": []
    },
    {
      "cell_type": "code",
      "source": [
        "#Function to calculate the auc\n",
        "from sklearn.metrics import roc_curve\n",
        "from sklearn.metrics import auc\n",
        "def calculateROC(model):\n",
        "\n",
        "  Y_prob=model.predict_proba(X_val)\n",
        "  fpr, tpr, thresold =roc_curve(y_val, Y_prob[:,1])\n",
        "  roc_auc=auc(fpr,tpr)\n",
        "  plt.plot(fpr, tpr, label =f'{type(model)} with roc_auc{roc_auc:.2f}')"
      ],
      "metadata": {
        "id": "3bnaSIzoTqvs"
      },
      "execution_count": 96,
      "outputs": []
    },
    {
      "cell_type": "code",
      "source": [
        "#5 plot the roc\n",
        "plt.figure(figsize=(5,5), dpi=100)\n",
        "calculateROC(model)\n",
        "plt.xlabel('False Positive Rate')\n",
        "plt.ylabel('True Positive Rate')\n",
        "plt.title('ROC Curve for Depression onset')\n",
        "plt.legend()\n",
        "plt.show()"
      ],
      "metadata": {
        "id": "eZHYFqu-RO44"
      },
      "execution_count": null,
      "outputs": []
    },
    {
      "cell_type": "markdown",
      "metadata": {
        "id": "y2YB3qrWcusF"
      },
      "source": [
        "#Hyperparameter tunning with Optuna"
      ]
    },
    {
      "cell_type": "code",
      "execution_count": null,
      "metadata": {
        "id": "OzBeu8-mvZGq"
      },
      "outputs": [],
      "source": [
        "#Optuna has a objecctive function and the number of trials involved as param\n",
        "#A study with the objective is created which focuses on optimizing the\n",
        "#objective functions return value, which is accracy in this case.\n",
        "import optuna\n",
        "from sklearn.metrics import classification_report\n",
        "def Objective(test):\n",
        "  params = {\n",
        "        \"iterations\": 1000,\n",
        "        \"learning_rate\": test.suggest_float(\"learning_rate\", 1e-3, 0.1, log=True),\n",
        "        \"depth\": test.suggest_int(\"depth\", 1, 10),\n",
        "        \"colsample_bylevel\": test.suggest_float(\"colsample_bylevel\", 0.05, 1.0),\n",
        "        \"min_data_in_leaf\": test.suggest_int(\"min_data_in_leaf\", 1, 100),\n",
        "    }\n",
        "  trainingPool = Pool(X_train, label=y_train, cat_features=catFeatureIndices)\n",
        "  valPool = Pool(X_val, label=y_val,cat_features=catFeatureIndices)\n",
        "\n",
        "  catModel= CatBoostClassifier(**params, silent=True)\n",
        "  catModel.fit(trainingPool)\n",
        "  pred=catModel.predict(valPool)\n",
        "  report= classification_report(y_val, pred, output_dict=True)\n",
        "  f1score=report['0']['f1-score'] #Focus on false nagative\n",
        "  accuracy = accuracy_score(y_val,pred)\n",
        "  return accuracy\n",
        "\n",
        "study = optuna.create_study(directions=['maximize'])\n",
        "study.optimize(Objective, n_trials=30)"
      ]
    },
    {
      "cell_type": "code",
      "execution_count": null,
      "metadata": {
        "id": "NcHfAmnyHajA"
      },
      "outputs": [],
      "source": [
        "\n",
        "print('Best hyperparameters:', study.best_params)\n",
        "print('Best Accuracy:', study.best_value)"
      ]
    },
    {
      "cell_type": "markdown",
      "metadata": {
        "id": "3nMBkEmJdD09"
      },
      "source": [
        "#Find the optimal thresold with ROC"
      ]
    },
    {
      "cell_type": "code",
      "execution_count": null,
      "metadata": {
        "colab": {
          "base_uri": "https://localhost:8080/"
        },
        "id": "qQrGexJ_gjpt",
        "outputId": "0998b9d6-b8de-41c7-80e0-1bc20ebd5514"
      },
      "outputs": [
        {
          "output_type": "stream",
          "name": "stdout",
          "text": [
            "0.5\n",
            "93.94\n",
            "TRainning accuracy 0.9464209564422784\n"
          ]
        }
      ],
      "source": [
        "print(model.get_probability_threshold())\n",
        "model.set_probability_threshold(0.5)\n",
        "pred=model.predict(valPool)\n",
        "accuracy = accuracy_score(y_val,pred)\n",
        "print(round(accuracy*100,2))\n",
        "pred = model.predict(trainingPool)\n",
        "accuracy = accuracy_score(y_train,pred)\n",
        "print(\"TRainning accuracy\", accuracy)"
      ]
    },
    {
      "cell_type": "markdown",
      "metadata": {
        "id": "ko6Hh5CmdRyn"
      },
      "source": [
        "#Predict for test data"
      ]
    },
    {
      "cell_type": "code",
      "execution_count": null,
      "metadata": {
        "id": "tNmL4cJ0dGnx"
      },
      "outputs": [],
      "source": [
        "#Prediction for test data\n",
        "dsTest.info()\n",
        "processed_Test = wrangle(dsTest)\n",
        "yPred =model.predict(processed_Test)"
      ]
    },
    {
      "cell_type": "markdown",
      "metadata": {
        "id": "gTDDRzAadVzy"
      },
      "source": [
        "#predictions in a csv file for submission"
      ]
    },
    {
      "cell_type": "code",
      "execution_count": null,
      "metadata": {
        "id": "_XsC0rzpZSuq"
      },
      "outputs": [],
      "source": [
        "print(len(dsTest['id']), len(yPred))\n",
        "\n",
        "submission = pd.DataFrame(dsTest['id'])\n",
        "submission[TARGET]=yPred\n",
        "submission.to_csv('result.csv',index= False)\n"
      ]
    },
    {
      "cell_type": "markdown",
      "metadata": {
        "id": "aki2jQsHC6QN"
      },
      "source": [
        "#Feature Importance"
      ]
    },
    {
      "cell_type": "markdown",
      "metadata": {
        "id": "Do0ugycSDiLF"
      },
      "source": []
    },
    {
      "cell_type": "code",
      "execution_count": null,
      "metadata": {
        "id": "t-iD6sF1COpB"
      },
      "outputs": [],
      "source": [
        "features = pd.Series(model.feature_importances_, index = X_train.columns)\n",
        "\n",
        "print(features.nlargest(10))\n",
        "\n",
        "features.nlargest(10).plot.barh(y=features.index)"
      ]
    }
  ],
  "metadata": {
    "colab": {
      "collapsed_sections": [
        "KdNhdt21g0jD",
        "BXIE-7E7g7rC",
        "5CpY9Utoyca0",
        "7HgLtXpjIdnN",
        "bIr2aVcmz0Cc",
        "DpwZtF7rdvkf",
        "ZmKcslzSdlGa",
        "y2YB3qrWcusF",
        "3nMBkEmJdD09",
        "ko6Hh5CmdRyn",
        "gTDDRzAadVzy",
        "aki2jQsHC6QN"
      ],
      "provenance": []
    },
    "kernelspec": {
      "display_name": "Python 3",
      "name": "python3"
    },
    "language_info": {
      "name": "python"
    }
  },
  "nbformat": 4,
  "nbformat_minor": 0
}